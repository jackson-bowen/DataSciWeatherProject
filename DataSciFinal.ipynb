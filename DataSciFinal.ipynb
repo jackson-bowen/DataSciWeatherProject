{
 "cells": [
  {
   "cell_type": "code",
   "execution_count": 7,
   "id": "6b76df91-2dd6-4742-bcc0-4ee5b67be049",
   "metadata": {},
   "outputs": [],
   "source": [
    "import numpy as np              # imports a fast numerical programming library\n",
    "import scipy as sp              # imports stats functions, amongst other things\n",
    "import matplotlib as mpl        # this actually imports matplotlib\n",
    "import matplotlib.cm as cm      # allows us easy access to colormaps\n",
    "import matplotlib.pyplot as plt # sets up plotting under plt\n",
    "import pandas as pd             # lets us handle data as dataframes\n",
    "\n",
    "import seaborn as sns # gives us more plotting options\n",
    "sns.set_theme()             # sets up styles"
   ]
  },
  {
   "cell_type": "code",
   "execution_count": 9,
   "id": "308ba925",
   "metadata": {},
   "outputs": [],
   "source": [
    "\"\"\"Variables:\n",
    "Type_of_Renewable_Energy: Numerical code representing the type of renewable energy source (1: Solar, 2: Wind, 3: Hydroelectric, 4: Geothermal, 5: Biomass, 6: Tidal, 7: Wave).\n",
    "Installed_Capacity_MW: Installed capacity in megawatts (MW).\n",
    "Energy_Production_MWh: Yearly energy production in megawatt-hours (MWh).\n",
    "Energy_Consumption_MWh: Yearly energy consumption in megawatt-hours (MWh).\n",
    "Energy_Storage_Capacity_MWh: Energy storage capacity in megawatt-hours (MWh).\n",
    "Storage_Efficiency_Percentage: Efficiency of energy storage systems in percentage.\n",
    "Grid_Integration_Level: Numerical code representing the level of grid integration (1: Fully Integrated, 2: Partially Integrated, 3: Minimal Integration, 4: Isolated Microgrid).\n",
    "Initial_Investment_USD: Initial investment costs in USD.\n",
    "Funding_Sources: Numerical code representing the funding source (1: Government, 2: Private, 3: Public-Private Partnership).\n",
    "Financial_Incentives_USD: Financial incentives in USD.\n",
    "GHG_Emission_Reduction_tCO2e: Reduction in greenhouse gas emissions in tons of CO2 equivalent (tCO2e).\n",
    "Air_Pollution_Reduction_Index: Air pollution reduction index.\n",
    "Jobs_Created: Number of jobs created.\n",
    "\n",
    "Where I found the dataset: https://www.kaggle.com/datasets/girumwondemagegn/dataset-for-renewable-energy-systems\n",
    "\"\"\"\n",
    "\n"
   ]
  },
  {
   "cell_type": "code",
   "execution_count": 10,
   "id": "27eebf14",
   "metadata": {},
   "outputs": [
    {
     "data": {
      "text/plain": [
       "<bound method NDFrame.head of        Type_of_Renewable_Energy  Installed_Capacity_MW  Energy_Production_MWh  \\\n",
       "0                             4              93.423205            103853.2206   \n",
       "1                             4             590.468942            190223.0649   \n",
       "2                             1             625.951142            266023.4824   \n",
       "3                             1             779.998728            487039.5296   \n",
       "4                             3             242.106837            482815.0856   \n",
       "...                         ...                    ...                    ...   \n",
       "14995                         3             745.032555            280007.5738   \n",
       "14996                         1              15.187023            377340.5803   \n",
       "14997                         3             877.539059            480497.3920   \n",
       "14998                         7             551.264716            436383.1694   \n",
       "14999                         3             863.421803            314014.3005   \n",
       "\n",
       "       Energy_Consumption_MWh  Energy_Storage_Capacity_MWh  \\\n",
       "0                 248708.4892                  2953.248771   \n",
       "1                 166104.1642                  5305.174042   \n",
       "2                 424114.6308                  2620.192622   \n",
       "3                 308337.7316                  1925.250307   \n",
       "4                 360437.7705                  3948.945383   \n",
       "...                       ...                          ...   \n",
       "14995             230544.8268                  4351.687893   \n",
       "14996             358547.3589                  6792.194696   \n",
       "14997             214441.6719                  4588.725297   \n",
       "14998             137043.8713                  7251.144215   \n",
       "14999             124461.9178                  7366.166362   \n",
       "\n",
       "       Storage_Efficiency_Percentage  Grid_Integration_Level  \\\n",
       "0                          89.887562                       4   \n",
       "1                          84.403343                       4   \n",
       "2                          60.498249                       2   \n",
       "3                          86.897861                       3   \n",
       "4                          70.949351                       2   \n",
       "...                              ...                     ...   \n",
       "14995                      90.791405                       4   \n",
       "14996                      78.252040                       4   \n",
       "14997                      58.282928                       1   \n",
       "14998                      73.573666                       2   \n",
       "14999                      86.868893                       4   \n",
       "\n",
       "       Initial_Investment_USD  Funding_Sources  Financial_Incentives_USD  \\\n",
       "0                4.732248e+08                1              9.207772e+06   \n",
       "1                1.670697e+08                2              1.685101e+06   \n",
       "2                8.463610e+07                2              5.111813e+06   \n",
       "3                3.967690e+08                2              4.805902e+06   \n",
       "4                3.574413e+07                1              1.668601e+07   \n",
       "...                       ...              ...                       ...   \n",
       "14995            3.484136e+08                2              1.558508e+07   \n",
       "14996            2.560179e+08                3              6.866618e+06   \n",
       "14997            1.300112e+08                2              3.837764e+06   \n",
       "14998            3.334831e+08                2              5.347706e+06   \n",
       "14999            2.989825e+08                2              1.832534e+07   \n",
       "\n",
       "       GHG_Emission_Reduction_tCO2e  Air_Pollution_Reduction_Index  \\\n",
       "0                       6663.816572                      81.742461   \n",
       "1                      30656.049820                      78.139042   \n",
       "2                       1749.613759                       8.461296   \n",
       "3                      43233.237820                       8.402441   \n",
       "4                      14858.662760                      28.822867   \n",
       "...                             ...                            ...   \n",
       "14995                  25234.911810                      78.923200   \n",
       "14996                  15762.519790                      54.982974   \n",
       "14997                  44597.809410                      43.915897   \n",
       "14998                  34363.858000                       4.877145   \n",
       "14999                  27193.217600                      50.559075   \n",
       "\n",
       "       Jobs_Created  \n",
       "0              1366  \n",
       "1              1743  \n",
       "2               363  \n",
       "3              2821  \n",
       "4              2583  \n",
       "...             ...  \n",
       "14995          1452  \n",
       "14996          2598  \n",
       "14997          2713  \n",
       "14998          2128  \n",
       "14999          1871  \n",
       "\n",
       "[15000 rows x 13 columns]>"
      ]
     },
     "execution_count": 10,
     "metadata": {},
     "output_type": "execute_result"
    }
   ],
   "source": [
    "#import dataset into DataFrame\n",
    "EnergyDF = pd.read_csv('energy_dataset_.csv')\n",
    "#Test\n",
    "EnergyDF.head"
   ]
  },
  {
   "cell_type": "code",
   "execution_count": null,
   "id": "ba384d52",
   "metadata": {},
   "outputs": [],
   "source": []
  },
  {
   "cell_type": "code",
   "execution_count": null,
   "id": "d55aa2ba",
   "metadata": {},
   "outputs": [],
   "source": []
  }
 ],
 "metadata": {
  "kernelspec": {
   "display_name": "Python 3 (ipykernel)",
   "language": "python",
   "name": "python3"
  },
  "language_info": {
   "codemirror_mode": {
    "name": "ipython",
    "version": 3
   },
   "file_extension": ".py",
   "mimetype": "text/x-python",
   "name": "python",
   "nbconvert_exporter": "python",
   "pygments_lexer": "ipython3",
   "version": "3.11.5"
  }
 },
 "nbformat": 4,
 "nbformat_minor": 5
}
