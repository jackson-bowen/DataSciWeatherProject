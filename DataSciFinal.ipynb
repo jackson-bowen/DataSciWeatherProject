{
 "cells": [
  {
   "cell_type": "code",
   "execution_count": 7,
   "id": "6b76df91-2dd6-4742-bcc0-4ee5b67be049",
   "metadata": {},
   "outputs": [],
   "source": [
    "import numpy as np              # imports a fast numerical programming library\n",
    "import scipy as sp              # imports stats functions, amongst other things\n",
    "import matplotlib as mpl        # this actually imports matplotlib\n",
    "import matplotlib.cm as cm      # allows us easy access to colormaps\n",
    "import matplotlib.pyplot as plt # sets up plotting under plt\n",
    "import pandas as pd             # lets us handle data as dataframes\n",
    "\n",
    "import seaborn as sns # gives us more plotting options\n",
    "sns.set()             # sets up styles"
   ]
  },
  {
   "cell_type": "code",
   "execution_count": 9,
   "id": "308ba925",
   "metadata": {},
   "outputs": [],
   "source": [
    "\"\"\"Variables:\n",
    "Type_of_Renewable_Energy: Numerical code representing the type of renewable energy source (1: Solar, 2: Wind, 3: Hydroelectric, 4: Geothermal, 5: Biomass, 6: Tidal, 7: Wave).\n",
    "Installed_Capacity_MW: Installed capacity in megawatts (MW).\n",
    "Energy_Production_MWh: Yearly energy production in megawatt-hours (MWh).\n",
    "Energy_Consumption_MWh: Yearly energy consumption in megawatt-hours (MWh).\n",
    "Energy_Storage_Capacity_MWh: Energy storage capacity in megawatt-hours (MWh).\n",
    "Storage_Efficiency_Percentage: Efficiency of energy storage systems in percentage.\n",
    "Grid_Integration_Level: Numerical code representing the level of grid integration (1: Fully Integrated, 2: Partially Integrated, 3: Minimal Integration, 4: Isolated Microgrid).\n",
    "Initial_Investment_USD: Initial investment costs in USD.\n",
    "Funding_Sources: Numerical code representing the funding source (1: Government, 2: Private, 3: Public-Private Partnership).\n",
    "Financial_Incentives_USD: Financial incentives in USD.\n",
    "GHG_Emission_Reduction_tCO2e: Reduction in greenhouse gas emissions in tons of CO2 equivalent (tCO2e).\n",
    "Air_Pollution_Reduction_Index: Air pollution reduction index.\n",
    "Jobs_Created: Number of jobs created.\n",
    "\"\"\"\n"
   ]
  },
  {
   "cell_type": "code",
   "execution_count": null,
   "id": "27eebf14",
   "metadata": {},
   "outputs": [],
   "source": [
    "#import dataset into DataFrame\n",
    "EnergyDF = pd.read_csv('energy_dataset_.csv')\n",
    "#Test\n",
    "EnergyDF.head"
   ]
  },
  {
   "cell_type": "code",
   "execution_count": null,
   "id": "ba384d52",
   "metadata": {},
   "outputs": [],
   "source": []
  },
  {
   "cell_type": "code",
   "execution_count": null,
   "id": "d55aa2ba",
   "metadata": {},
   "outputs": [],
   "source": []
  }
 ],
 "metadata": {
  "kernelspec": {
   "display_name": "Python 3 (ipykernel)",
   "language": "python",
   "name": "python3"
  },
  "language_info": {
   "codemirror_mode": {
    "name": "ipython",
    "version": 3
   },
   "file_extension": ".py",
   "mimetype": "text/x-python",
   "name": "python",
   "nbconvert_exporter": "python",
   "pygments_lexer": "ipython3",
   "version": "3.11.5"
  }
 },
 "nbformat": 4,
 "nbformat_minor": 5
}
